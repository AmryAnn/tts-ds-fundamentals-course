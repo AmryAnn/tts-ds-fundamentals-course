{
 "cells": [
  {
   "cell_type": "markdown",
   "id": "155808ee",
   "metadata": {},
   "source": [
    "## Exercise 1\n",
    "In mathematics, the quadratic equation $ax2+bx+c=0$ can be solved with the formula:\n",
    "\n",
    "\\begin{equation}\n",
    "x=−b±b2−4ac√2a.\n",
    "\\end{equation}\n",
    "\n",
    "Write a function solve_quadratic, that returns both solutions of a generic quadratic as a pair (2-tuple) when the coefficients are given as parameters. It should work like this:\n",
    "\n",
    "    print(solve_quadratic(1,-3,2))  \n",
    "    (2.0,1.0)  \n",
    "\n",
    "    print(solve_quadratic(1,2,1))  \n",
    "    (-1.0,-1.0)  \n",
    "\n",
    "You may want to use the math.sqrt function from the math module in your solution. Test that your function works in the main function!"
   ]
  },
  {
   "cell_type": "code",
   "execution_count": 50,
   "id": "85e2d2c7",
   "metadata": {},
   "outputs": [
    {
     "name": "stdout",
     "output_type": "stream",
     "text": [
      "(2.0, 1.0)\n",
      "<class 'tuple'>\n"
     ]
    }
   ],
   "source": [
    "import math\n",
    "\n",
    "def solve_quadratic(a, b, c): # a, b, and c are the coefficients of a quadratic equation\n",
    "    b2_4ac = (b**2 - 4*a*c) # arithmetic under square root function\n",
    "    quad_plus = (-b + math.sqrt(b2_4ac))/2*a # solve addition portion of formula\n",
    "    quad_minus = (-b - math.sqrt(b2_4ac))/2*a # solve subtraction portion of formula\n",
    "    solutions = (quad_plus, quad_minus) # put each solution into a tuple\n",
    "    print(solutions)\n",
    "    print(type(solutions))\n",
    "\n",
    "solve_quadratic(1,-3,2)"
   ]
  },
  {
   "cell_type": "markdown",
   "id": "895eb11d",
   "metadata": {},
   "source": [
    "## Exercise 2\n",
    "\n",
    "Get a space-separated list of integers from the user, create a tuple of those integers. Then compute and print the result of hash(tuple).\n",
    "\n",
    "[Documentation: hash():](https://docs.python.org/3/library/functions.html#hash)"
   ]
  },
  {
   "cell_type": "code",
   "execution_count": 1,
   "id": "017a2bd1",
   "metadata": {},
   "outputs": [
    {
     "name": "stdout",
     "output_type": "stream",
     "text": [
      "Enter a space separated list of integers:3 1 3 3 7\n",
      "2910935101006292\n"
     ]
    }
   ],
   "source": [
    "\"\"\"\n",
    "Prompts user to eneter a list of integers separated by spaces and splits the input list into an iterable list.\n",
    "Uses map function to turn each element of iterable list into type int.\n",
    "Turns the list into a tuple.\n",
    "Prints the hash into a tuple.\n",
    "\"\"\"\n",
    "integer_list = map(int, input(\"Enter a space separated list of integers:\").split())\n",
    "t = tuple(integer_list)\n",
    "print(hash(t))"
   ]
  },
  {
   "cell_type": "markdown",
   "id": "bb6ec09e",
   "metadata": {},
   "source": [
    "## Excercise 3\n",
    "Take the following two lists. Create a third list by picking a odd-index elements from the first list and even-index elements from the second.\n",
    "\n",
    "    listOne = [3, 6, 9, 12, 15, 18, 21]\n",
    "    listTwo = [4, 8, 12, 16, 20, 24, 28]"
   ]
  },
  {
   "cell_type": "code",
   "execution_count": 2,
   "id": "fd9415b0",
   "metadata": {},
   "outputs": [
    {
     "name": "stdout",
     "output_type": "stream",
     "text": [
      "[6, 12, 18, 4, 12, 20, 28]\n"
     ]
    }
   ],
   "source": [
    "listOne = [3, 6, 9, 12, 15, 18, 21]\n",
    "listTwo = [4, 8, 12, 16, 20, 24, 28]\n",
    "\n",
    "# list slicing and concatenation\n",
    "listThree = listOne[1::2] +  listTwo[0::2]\n",
    "print(listThree)"
   ]
  },
  {
   "cell_type": "markdown",
   "id": "c97908de",
   "metadata": {},
   "source": [
    "## Exercise 4\n",
    "Take the following list. Slice it into three equal chunks and reverse each list.\n",
    "\n",
    "    sampleList = [11, 45, 8, 23, 14, 12, 78, 45, 89]"
   ]
  },
  {
   "cell_type": "code",
   "execution_count": 43,
   "id": "38e90741",
   "metadata": {},
   "outputs": [
    {
     "name": "stdout",
     "output_type": "stream",
     "text": [
      "[11, 45, 8]\n",
      "[23, 14, 12]\n",
      "[78, 45, 89]\n"
     ]
    }
   ],
   "source": [
    "sampleList = [11, 45, 8, 23, 14, 12, 78, 45, 89]\n",
    "\n",
    "for i in range(0, len(sampleList), 3): \n",
    "    x = i\n",
    "    print(sampleList[x:x+3])"
   ]
  },
  {
   "cell_type": "markdown",
   "id": "299e79c8",
   "metadata": {},
   "source": [
    "## Exercise 5\n",
    "Iterate through a given list and check if a given element already exists in a dictionary as a key’s value. If not, delete it from the list.\n",
    "\n",
    "    rollNumber = [47, 64, 69, 37, 76, 83, 95, 97]\n",
    "    sampleDict ={'Zach':47, 'Emma':69, 'Kelly':76, 'Jason':97}"
   ]
  },
  {
   "cell_type": "code",
   "execution_count": 41,
   "id": "364c9264",
   "metadata": {},
   "outputs": [
    {
     "name": "stdout",
     "output_type": "stream",
     "text": [
      "[47, 69, 76, 97]\n"
     ]
    }
   ],
   "source": [
    "rollNumber = [47, 64, 69, 37, 76, 83, 95, 97]\n",
    "sampleDict ={'Zach':47, 'Emma':69, 'Kelly':76, 'Jason':97}\n",
    "\n",
    "#use list comprehension to create new list that contains only numbers that exist as values in the dictionary\n",
    "rollNumber = [i for i in rollNumber if i in sampleDict.values()]\n",
    "print(rollNumber)"
   ]
  }
 ],
 "metadata": {
  "kernelspec": {
   "display_name": "Python 3",
   "language": "python",
   "name": "python3"
  },
  "language_info": {
   "codemirror_mode": {
    "name": "ipython",
    "version": 3
   },
   "file_extension": ".py",
   "mimetype": "text/x-python",
   "name": "python",
   "nbconvert_exporter": "python",
   "pygments_lexer": "ipython3",
   "version": "3.8.8"
  }
 },
 "nbformat": 4,
 "nbformat_minor": 5
}
