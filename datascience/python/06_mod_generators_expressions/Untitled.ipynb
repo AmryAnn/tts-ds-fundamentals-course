{
 "cells": [
  {
   "cell_type": "markdown",
   "id": "3b4c729d",
   "metadata": {},
   "source": [
    "## Notes"
   ]
  },
  {
   "cell_type": "markdown",
   "id": "2a09848f",
   "metadata": {},
   "source": [
    "### String Manipulation"
   ]
  },
  {
   "cell_type": "code",
   "execution_count": 2,
   "id": "b9657ae2",
   "metadata": {},
   "outputs": [
    {
     "data": {
      "text/plain": [
       "'ello my name is Amy'"
      ]
     },
     "execution_count": 2,
     "metadata": {},
     "output_type": "execute_result"
    }
   ],
   "source": [
    "# .strip() only removes whitespace or specified character at beginning or end of line\n",
    "\n",
    "stringa = \"Hello my name is Amy\"\n",
    "stringa.strip('H')"
   ]
  },
  {
   "cell_type": "code",
   "execution_count": 3,
   "id": "f24f37e7",
   "metadata": {},
   "outputs": [
    {
     "data": {
      "text/plain": [
       "'Hi, my name is Amy'"
      ]
     },
     "execution_count": 3,
     "metadata": {},
     "output_type": "execute_result"
    }
   ],
   "source": [
    "stringb = \"Hi, my name is Amy\"\n",
    "stringb.strip('m')"
   ]
  }
 ],
 "metadata": {
  "kernelspec": {
   "display_name": "Python 3",
   "language": "python",
   "name": "python3"
  },
  "language_info": {
   "codemirror_mode": {
    "name": "ipython",
    "version": 3
   },
   "file_extension": ".py",
   "mimetype": "text/x-python",
   "name": "python",
   "nbconvert_exporter": "python",
   "pygments_lexer": "ipython3",
   "version": "3.8.8"
  }
 },
 "nbformat": 4,
 "nbformat_minor": 5
}
