{
 "cells": [
  {
   "cell_type": "markdown",
   "id": "f6e2f7db",
   "metadata": {},
   "source": [
    "1. Accept the user's first and last name and print them in reverse order with a space between them."
   ]
  },
  {
   "cell_type": "code",
   "execution_count": null,
   "id": "5c6e031f",
   "metadata": {},
   "outputs": [],
   "source": [
    "\"\"\"Prompts user to enter first and last name and stores them in the variables. \n",
    "Prints the names in reverse order with a space between them.\"\"\"\n",
    "\n",
    "first_name = input(\"Enter your first name: \")\n",
    "last_name = input(\"Enter your last name: \")\n",
    "print(last_name, first_name)"
   ]
  },
  {
   "cell_type": "markdown",
   "id": "c86293a5",
   "metadata": {},
   "source": [
    "2. Accept an integer (n) input from the user and compute the value of n+nn+nnn. For example if n=4 then n + nn + nnn = 4 + 44 + 444 = 492"
   ]
  },
  {
   "cell_type": "code",
   "execution_count": null,
   "id": "05cbdf63",
   "metadata": {},
   "outputs": [],
   "source": [
    "\"\"\"Prompts user to enter an integer, and will only accept object of type int.\n",
    "Calculates and prints n + nn + nnn.\"\"\"\n",
    "\n",
    "n = int(input(\"Enter an integer:\"))\n",
    "print(n + (n*10 + n) + (n*100 + n*10 + n))"
   ]
  },
  {
   "cell_type": "markdown",
   "id": "6f625ee2",
   "metadata": {},
   "source": [
    "3. Ask the user \"What country are you from?\" then print the following statement: \"I have heard that [input] is a beautiful country!\""
   ]
  },
  {
   "cell_type": "code",
   "execution_count": null,
   "id": "56ee3dce",
   "metadata": {},
   "outputs": [],
   "source": [
    "\"\"\"Prompts user to enter their country of origin and saves it to a variable.\n",
    "Uses the .format() string method to place the user's input into the output string and prints.\"\"\"\n",
    "\n",
    "nation = input(\"What country are you from? \")\n",
    "print(\"I have heard that {0} is a beautiful country!\".format(nation))"
   ]
  },
  {
   "cell_type": "markdown",
   "id": "f8d346ca",
   "metadata": {},
   "source": [
    "4. What is the output of the following Python code\n",
    "\n",
    "x = 10\n",
    "y = 50\n",
    "if (x ** 2 > 100 and y < 100):\n",
    "    print(x, y)"
   ]
  },
  {
   "cell_type": "code",
   "execution_count": null,
   "id": "316919e3",
   "metadata": {},
   "outputs": [],
   "source": [
    "#There is no output"
   ]
  },
  {
   "cell_type": "markdown",
   "id": "6742d288",
   "metadata": {},
   "source": [
    "5. What is the output of the following addition (+) operator, and why does this code chunk execute this way?\n",
    "\n",
    "a = [10, 20]\n",
    "b = a\n",
    "b += [30, 40]\n",
    "print(a)\n",
    "print(b)"
   ]
  },
  {
   "cell_type": "code",
   "execution_count": null,
   "id": "e445b090",
   "metadata": {},
   "outputs": [],
   "source": [
    "\"\"\"Output: \n",
    "[10, 20, 30, 40]\n",
    "[10, 20, 30, 40]\n",
    "The code executes this way because b and a are in the same scope. \n",
    "So when b is set equal to a and then be is altered, a is also altered.\n",
    "If print(a) was in the line above b += [30, 40], then the output would be:\n",
    "[10, 20]\n",
    "[10, 20, 30, 40]\"\"\""
   ]
  },
  {
   "cell_type": "markdown",
   "id": "81930e9d",
   "metadata": {},
   "source": [
    "6. What is the output of the following code and what arithmetic operators is being used here? print(2%6)"
   ]
  },
  {
   "cell_type": "code",
   "execution_count": null,
   "id": "e5ba0136",
   "metadata": {},
   "outputs": [],
   "source": [
    "# Ouput: 2\n",
    "# The modulo operator is being used."
   ]
  },
  {
   "cell_type": "markdown",
   "id": "fbbb602a",
   "metadata": {},
   "source": [
    "7. What is the output of the following code and what arithmetic operators are used here? print(2 * 3 ** 3 * 4)"
   ]
  },
  {
   "cell_type": "code",
   "execution_count": null,
   "id": "7a8bf0c8",
   "metadata": {},
   "outputs": [],
   "source": [
    "# Output: 216\n",
    "# Multiplication and exponential operators are being used."
   ]
  },
  {
   "cell_type": "markdown",
   "id": "76254086",
   "metadata": {},
   "source": [
    "8. What is a text editor?"
   ]
  },
  {
   "cell_type": "code",
   "execution_count": null,
   "id": "30ef856c",
   "metadata": {},
   "outputs": [],
   "source": [
    "# A text editor is a system or program, often a GUI, that allows a user to edit text files."
   ]
  },
  {
   "cell_type": "markdown",
   "id": "3e4b1ccf",
   "metadata": {},
   "source": [
    "9. What is python?"
   ]
  },
  {
   "cell_type": "code",
   "execution_count": null,
   "id": "05fa9483",
   "metadata": {},
   "outputs": [],
   "source": [
    "\"\"\"Python is a computer programming language that is relatively easy to learn and has a vast array of functionality. \n",
    "It is the most widely used programming language, especially for Data Science\"\"\""
   ]
  },
  {
   "cell_type": "markdown",
   "id": "f6936b17",
   "metadata": {},
   "source": [
    "10. What is jupyter notebook, what type of python environment is it and what alternative are there to jupyter notebook?"
   ]
  },
  {
   "cell_type": "code",
   "execution_count": null,
   "id": "cb3519b7",
   "metadata": {},
   "outputs": [],
   "source": [
    "\"\"\"Jupyter notebook is an interactive notbooke environment that allows one to create attractive and interactive \n",
    "executable documents and has proven useful for exploratory analysis. It is a type of Integrated Development Environment (IDE).\n",
    "Some alternatives to Jupyter Notebook include Spyder and PyCharm.\"\"\""
   ]
  }
 ],
 "metadata": {
  "kernelspec": {
   "display_name": "Python 3",
   "language": "python",
   "name": "python3"
  },
  "language_info": {
   "codemirror_mode": {
    "name": "ipython",
    "version": 3
   },
   "file_extension": ".py",
   "mimetype": "text/x-python",
   "name": "python",
   "nbconvert_exporter": "python",
   "pygments_lexer": "ipython3",
   "version": "3.8.8"
  }
 },
 "nbformat": 4,
 "nbformat_minor": 5
}
