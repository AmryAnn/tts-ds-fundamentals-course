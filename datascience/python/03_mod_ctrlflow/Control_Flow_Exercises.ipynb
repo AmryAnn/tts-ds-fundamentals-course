{
 "cells": [
  {
   "cell_type": "markdown",
   "id": "21b0f4c4",
   "metadata": {},
   "source": [
    "## Exercise 1\n",
    "Guess a number between 1 to 9 given by the user"
   ]
  },
  {
   "cell_type": "code",
   "execution_count": null,
   "id": "a3cfb7d8",
   "metadata": {},
   "outputs": [],
   "source": [
    "import random\n",
    "\n",
    "num = random.randint(1, 10)\n",
    "guess = 0\n",
    "while guess != num:\n",
    "    guess = int(input(\"Guess a number between 1 and 9 until you get it right: \"))\n",
    "print(\"You guessed right!\")"
   ]
  },
  {
   "cell_type": "markdown",
   "id": "b993e59c",
   "metadata": {},
   "source": [
    "## Exercise 2\n",
    "Check the validity of password input by the user.  \n",
    "\n",
    "Validation:\n",
    "* At least 1 letter between [a-z] and 1 letter between [A-Z]\n",
    "* At least 1 number between [0-9]\n",
    "* At least 1 character from [$#@]\n",
    "* Minimum length 6 characters\n",
    "* Maximum length 16 characters"
   ]
  },
  {
   "cell_type": "code",
   "execution_count": null,
   "id": "d1d110cb",
   "metadata": {},
   "outputs": [],
   "source": [
    "import re\n",
    "\n",
    "password = input(\"Choose a password with 6-16 characters, at least 1 lowercase and 1 upper case letter, \\\n",
    "at least one number (0-9), and at least 1 '$, #, or @:'\")\n",
    "t = True\n",
    "\n",
    "while t:\n",
    "    if len(password) < 6 or len(password) > 16:\n",
    "        print(\"Invalid Password.\")\n",
    "        print(\"Your password must be 6-16 characters long.\")\n",
    "        break\n",
    "    if not re.search(\"[a-z]\", password):\n",
    "        print(\"Invalid Password.\")\n",
    "        print(\"Your password must contain at least one lowercase letter.\")\n",
    "        break\n",
    "    elif not re.search(\"[A-Z]\", password):\n",
    "        print(\"Invalid Password.\")\n",
    "        print(\"Your password must contain at least one uppercase letter.\")\n",
    "        break\n",
    "    elif not re.search(\"[0-9]\", password):\n",
    "        print(\"Invalid Password.\")\n",
    "        print(\"Your password must containt at least one digit (0-9).\")\n",
    "        break\n",
    "    elif not re.search('[$#@]', password):\n",
    "        print(\"Invalid Password.\")\n",
    "        print(\"Your password must contain at least one '$', '#', or '@'.\")\n",
    "        break\n",
    "    else:\n",
    "        print(\"Password is valid.\")\n",
    "        t = False\n",
    "        break"
   ]
  },
  {
   "cell_type": "markdown",
   "id": "a1325319",
   "metadata": {},
   "source": [
    "## Exercise 3\n",
    "Get input of the age of 3 people by user and determine oldest and youngest among them"
   ]
  },
  {
   "cell_type": "code",
   "execution_count": null,
   "id": "64fb4121",
   "metadata": {},
   "outputs": [],
   "source": [
    "print(\"Pick 3 people you know of different ages.\")\n",
    "p1 = int(input(\"Enter Person 1's age in years:\"))\n",
    "p2 = int(input(\"Enter Person 2's age in years:\"))\n",
    "p3 = int(input(\"Enter Person 3's age in years:\"))\n",
    "\n",
    "oldest = ' '\n",
    "youngest = ' '\n",
    "\n",
    "#Find oldest person\n",
    "if p1 > p2 and p1 > p3:\n",
    "    oldest = \"Person 1\"\n",
    "elif p2 > p1 and p2 > p3:\n",
    "    oldest = \"Person 2\"\n",
    "else:\n",
    "    oldest = \"Person 3\"\n",
    "\n",
    "#Find youngest person\n",
    "if p1 < p2 and p1 < p3:\n",
    "    youngest = \"Person 1\"\n",
    "elif p2 < p1 and p2 < p3:\n",
    "    youngest = \"Person 2\"\n",
    "else:\n",
    "    youngest = \"Person 3\"\n",
    "    \n",
    "print(\"{old} is the oldest and {young} is the youngest\".format(old=oldest, young=youngest))"
   ]
  },
  {
   "cell_type": "markdown",
   "id": "59ac85aa",
   "metadata": {},
   "source": [
    "## Exercise 4\n",
    "A student will not be allowed to sit in exam if his/her attendance is less than 75%.\n",
    "\n",
    "Take following input from user:\n",
    "\n",
    "* Number of classes held\n",
    "* Number of classes attended\n",
    "\n",
    "Print the percentage of class attended.\n",
    "\n",
    "Is student is allowed to sit in exam or not?"
   ]
  },
  {
   "cell_type": "code",
   "execution_count": null,
   "id": "3758f238",
   "metadata": {},
   "outputs": [],
   "source": [
    "classes_held = int(input(\"How many times was your class held? \"))\n",
    "classes_attended = int(input(\"How many times did you attend your class?\"))\n",
    "percent_attendance = (classes_attended/classes_held)*100\n",
    "\n",
    "print(\"Percent attendace: {per}%\".format(per=percent_attendance))\n",
    "\n",
    "if percent_attendance >= 75:\n",
    "    print(\"You meet the attendance requirements to take the exam.\")\n",
    "else:\n",
    "    print(\"You do not meet the attendance requirements to sit in the exam.\")"
   ]
  },
  {
   "cell_type": "markdown",
   "id": "7572520e",
   "metadata": {},
   "source": [
    "## Exercise 5\n",
    "Get an integer N from the user and perform the following actions:\n",
    "\n",
    "* if N is odd, print \"weird\"\n",
    "* if N is even and in the inclusive range of 2 to 5, print \"Not Weird\"\n",
    "* if N is even and in the inclusive range of 6 to 20, print \"Weird\"\n",
    "* if N is even and greater than 20, print \"Not Weird\""
   ]
  },
  {
   "cell_type": "code",
   "execution_count": null,
   "id": "c739b7f3",
   "metadata": {},
   "outputs": [],
   "source": [
    "N = int(input(\"Type any integer: \"))\n",
    "\n",
    "if N % 2 != 0:\n",
    "    print(\"weird\")\n",
    "elif N >= 2 and N <= 5:\n",
    "    print(\"Not Weird\")\n",
    "elif N >= 6 and N <= 20:\n",
    "    print(\"Weird\")\n",
    "else: \n",
    "    print(\"Not weird\")"
   ]
  }
 ],
 "metadata": {
  "kernelspec": {
   "display_name": "Python 3",
   "language": "python",
   "name": "python3"
  },
  "language_info": {
   "codemirror_mode": {
    "name": "ipython",
    "version": 3
   },
   "file_extension": ".py",
   "mimetype": "text/x-python",
   "name": "python",
   "nbconvert_exporter": "python",
   "pygments_lexer": "ipython3",
   "version": "3.8.8"
  }
 },
 "nbformat": 4,
 "nbformat_minor": 5
}
