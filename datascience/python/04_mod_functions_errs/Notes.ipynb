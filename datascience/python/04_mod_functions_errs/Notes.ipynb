{
 "cells": [
  {
   "cell_type": "markdown",
   "id": "6b5007b2",
   "metadata": {},
   "source": [
    "## List of Even Integers"
   ]
  },
  {
   "cell_type": "code",
   "execution_count": 6,
   "id": "b7e4051b",
   "metadata": {},
   "outputs": [
    {
     "name": "stdout",
     "output_type": "stream",
     "text": [
      "2 4\n",
      "[2, 4, 6, 8]\n"
     ]
    }
   ],
   "source": [
    "def even(start, n):\n",
    "    even_ints = []\n",
    "    while len(even_ints) < n:\n",
    "        if start%2 == 0:\n",
    "            even_ints.append(start)\n",
    "            start += 2\n",
    "    print(even_ints)\n",
    "if __name__ == '__main__':\n",
    "    start, n = map(int, input().split())\n",
    "    res = even(start, n)"
   ]
  },
  {
   "cell_type": "markdown",
   "id": "fd63a16f",
   "metadata": {},
   "source": [
    "## Filter vowels and consonants"
   ]
  },
  {
   "cell_type": "code",
   "execution_count": 9,
   "id": "f4149240",
   "metadata": {},
   "outputs": [
    {
     "name": "stdout",
     "output_type": "stream",
     "text": [
      "programming\n",
      "prgrmmng\n",
      "oai\n"
     ]
    }
   ],
   "source": [
    "import re\n",
    "class LetterFilter:\n",
    "\n",
    "    def __init__(self, s):\n",
    "        self.s = s\n",
    "        \n",
    "\n",
    "# Enter your code here. \n",
    "# Complete the classes below.\n",
    "# Reading the inputs and writing the outputs are already done for you.\n",
    "#\n",
    "# class LetterFilter:\n",
    "#\n",
    "#   def __init__(self, s):\n",
    "#       self.s = s\n",
    "\t\n",
    "    def filter_vowels(self):\n",
    "        slist = re.split(r'[aeiou]', s)\n",
    "        filtered_string = ''.join(slist)\n",
    "        return filtered_string\n",
    "\n",
    "    def filter_consonants(self):\n",
    "        slist = re.split(r'[bcdfghjklmnpqrstvwxyz]', s)\n",
    "        filtered_string = ''.join(slist)\n",
    "        return filtered_string\n",
    "\n",
    "s = input()\n",
    "f = LetterFilter(s)\n",
    "print(f.filter_vowels())\n",
    "print(f.filter_consonants())"
   ]
  },
  {
   "cell_type": "markdown",
   "id": "c14bf099",
   "metadata": {},
   "source": [
    "## Raise ValueError"
   ]
  },
  {
   "cell_type": "code",
   "execution_count": 13,
   "id": "ca55316f",
   "metadata": {},
   "outputs": [
    {
     "ename": "ValueError",
     "evalue": "multiplication of 5 and 2 with 9 not possible",
     "output_type": "error",
     "traceback": [
      "\u001b[1;31m---------------------------------------------------------------------------\u001b[0m",
      "\u001b[1;31mValueError\u001b[0m                                Traceback (most recent call last)",
      "\u001b[1;32m<ipython-input-13-a2c641226a06>\u001b[0m in \u001b[0;36m<module>\u001b[1;34m\u001b[0m\n\u001b[0;32m      5\u001b[0m     \u001b[1;32mreturn\u001b[0m \u001b[0mproduct\u001b[0m\u001b[1;33m\u001b[0m\u001b[1;33m\u001b[0m\u001b[0m\n\u001b[0;32m      6\u001b[0m \u001b[1;33m\u001b[0m\u001b[0m\n\u001b[1;32m----> 7\u001b[1;33m \u001b[0mprint\u001b[0m\u001b[1;33m(\u001b[0m\u001b[0mmultiply\u001b[0m\u001b[1;33m(\u001b[0m\u001b[1;36m5\u001b[0m\u001b[1;33m,\u001b[0m \u001b[1;36m2\u001b[0m\u001b[1;33m,\u001b[0m \u001b[1;36m9\u001b[0m\u001b[1;33m)\u001b[0m\u001b[1;33m)\u001b[0m\u001b[1;33m\u001b[0m\u001b[1;33m\u001b[0m\u001b[0m\n\u001b[0m",
      "\u001b[1;32m<ipython-input-13-a2c641226a06>\u001b[0m in \u001b[0;36mmultiply\u001b[1;34m(a, b, bound)\u001b[0m\n\u001b[0;32m      2\u001b[0m     \u001b[0mproduct\u001b[0m \u001b[1;33m=\u001b[0m \u001b[0ma\u001b[0m\u001b[1;33m*\u001b[0m\u001b[0mb\u001b[0m\u001b[1;33m\u001b[0m\u001b[1;33m\u001b[0m\u001b[0m\n\u001b[0;32m      3\u001b[0m     \u001b[1;32mif\u001b[0m \u001b[0mproduct\u001b[0m \u001b[1;33m>\u001b[0m \u001b[0mbound\u001b[0m\u001b[1;33m:\u001b[0m\u001b[1;33m\u001b[0m\u001b[1;33m\u001b[0m\u001b[0m\n\u001b[1;32m----> 4\u001b[1;33m         \u001b[1;32mraise\u001b[0m \u001b[0mValueError\u001b[0m\u001b[1;33m(\u001b[0m\u001b[1;34m\"multiplication of {a} and {b} with {bound} not possible\"\u001b[0m\u001b[1;33m.\u001b[0m\u001b[0mformat\u001b[0m\u001b[1;33m(\u001b[0m\u001b[0ma\u001b[0m\u001b[1;33m=\u001b[0m\u001b[0ma\u001b[0m\u001b[1;33m,\u001b[0m \u001b[0mb\u001b[0m\u001b[1;33m=\u001b[0m\u001b[0mb\u001b[0m\u001b[1;33m,\u001b[0m \u001b[0mbound\u001b[0m\u001b[1;33m=\u001b[0m\u001b[0mbound\u001b[0m\u001b[1;33m)\u001b[0m\u001b[1;33m)\u001b[0m\u001b[1;33m\u001b[0m\u001b[1;33m\u001b[0m\u001b[0m\n\u001b[0m\u001b[0;32m      5\u001b[0m     \u001b[1;32mreturn\u001b[0m \u001b[0mproduct\u001b[0m\u001b[1;33m\u001b[0m\u001b[1;33m\u001b[0m\u001b[0m\n\u001b[0;32m      6\u001b[0m \u001b[1;33m\u001b[0m\u001b[0m\n",
      "\u001b[1;31mValueError\u001b[0m: multiplication of 5 and 2 with 9 not possible"
     ]
    }
   ],
   "source": [
    "\n",
    "def multiply(a, b, bound):\n",
    "    product = a*b\n",
    "    if product > bound:\n",
    "        raise ValueError(\"multiplication of {a} and {b} with {bound} not possible\".format(a=a, b=b, bound=bound))\n",
    "    return product\n",
    "\n",
    "print(multiply(5, 2, 9))"
   ]
  }
 ],
 "metadata": {
  "kernelspec": {
   "display_name": "Python 3",
   "language": "python",
   "name": "python3"
  },
  "language_info": {
   "codemirror_mode": {
    "name": "ipython",
    "version": 3
   },
   "file_extension": ".py",
   "mimetype": "text/x-python",
   "name": "python",
   "nbconvert_exporter": "python",
   "pygments_lexer": "ipython3",
   "version": "3.8.8"
  }
 },
 "nbformat": 4,
 "nbformat_minor": 5
}
