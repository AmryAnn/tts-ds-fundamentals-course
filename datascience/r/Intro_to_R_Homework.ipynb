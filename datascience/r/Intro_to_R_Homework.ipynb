{
 "cells": [
  {
   "cell_type": "markdown",
   "id": "79e251cf",
   "metadata": {},
   "source": [
    "### Exercise 1.\n",
    "#### Creating vectors/factors and dataframes"
   ]
  },
  {
   "cell_type": "markdown",
   "id": "894f1127",
   "metadata": {},
   "source": [
    "We are performing RNA-Seq on cancer samples being treated with three different types of treatment (A, B, and P). You have 12 samples total, with 4 replicates per treatment. Write the R code you would use to construct your metadata table as described below.\n",
    "\n",
    "- Create the vectors/factors for each column (Hint: you can type out each vector/factor, or if you want the process go faster try exploring the rep() function).\n",
    "- Put them together into a dataframe called meta.\n",
    "- Use the rownames() function to assign row names to the dataframe (Hint: you can type out the row names as a vector, or if you want the process go faster try exploring the paste() function).\n",
    "\n",
    "Your finished metadata table should have information for the variables sex, stage, treatment, and myc levels"
   ]
  },
  {
   "cell_type": "code",
   "execution_count": 1,
   "id": "db9af7a1",
   "metadata": {},
   "outputs": [
    {
     "name": "stderr",
     "output_type": "stream",
     "text": [
      "\n",
      "Attaching package: 'dplyr'\n",
      "\n",
      "The following objects are masked from 'package:stats':\n",
      "\n",
      "    filter, lag\n",
      "\n",
      "The following objects are masked from 'package:base':\n",
      "\n",
      "    intersect, setdiff, setequal, union\n",
      "\n"
     ]
    }
   ],
   "source": [
    "library(dplyr)"
   ]
  },
  {
   "cell_type": "code",
   "execution_count": 2,
   "id": "c2c9bc35",
   "metadata": {},
   "outputs": [],
   "source": [
    "meta <- data.frame(\n",
    "    sex = c(\"M\", \"F\", \"M\", \"F\", \"M\", \"F\", \"M\", \"F\", \"M\", \"F\", \"M\", \"F\"),\n",
    "    stage = c(\"I\", \"II\", \"II\", \"I\", \"II\", \"II\", \"I\", \"II\", \"II\", \"I\", \"II\", \"II\"),\n",
    "    treatment = c(\"A\", \"A\", \"A\", \"A\", \"B\", \"B\", \"B\", \"B\", \"P\", \"P\", \"P\", \"P\"),\n",
    "    myc = c(2343, 457, 4593, 9035, 3450, 3524, 958, 1053, 8674, 3424, 463, 5105),\n",
    "    stringsAsFactors = FALSE\n",
    ")\n"
   ]
  },
  {
   "cell_type": "code",
   "execution_count": 3,
   "id": "1a26cdda",
   "metadata": {},
   "outputs": [
    {
     "data": {
      "text/html": [
       "<table>\n",
       "<thead><tr><th scope=col>sex</th><th scope=col>stage</th><th scope=col>treatment</th><th scope=col>myc</th></tr></thead>\n",
       "<tbody>\n",
       "\t<tr><td>M   </td><td>I   </td><td>A   </td><td>2343</td></tr>\n",
       "\t<tr><td>F   </td><td>II  </td><td>A   </td><td> 457</td></tr>\n",
       "\t<tr><td>M   </td><td>II  </td><td>A   </td><td>4593</td></tr>\n",
       "\t<tr><td>F   </td><td>I   </td><td>A   </td><td>9035</td></tr>\n",
       "\t<tr><td>M   </td><td>II  </td><td>B   </td><td>3450</td></tr>\n",
       "\t<tr><td>F   </td><td>II  </td><td>B   </td><td>3524</td></tr>\n",
       "\t<tr><td>M   </td><td>I   </td><td>B   </td><td> 958</td></tr>\n",
       "\t<tr><td>F   </td><td>II  </td><td>B   </td><td>1053</td></tr>\n",
       "\t<tr><td>M   </td><td>II  </td><td>P   </td><td>8674</td></tr>\n",
       "\t<tr><td>F   </td><td>I   </td><td>P   </td><td>3424</td></tr>\n",
       "\t<tr><td>M   </td><td>II  </td><td>P   </td><td> 463</td></tr>\n",
       "\t<tr><td>F   </td><td>II  </td><td>P   </td><td>5105</td></tr>\n",
       "</tbody>\n",
       "</table>\n"
      ],
      "text/latex": [
       "\\begin{tabular}{r|llll}\n",
       " sex & stage & treatment & myc\\\\\n",
       "\\hline\n",
       "\t M    & I    & A    & 2343\\\\\n",
       "\t F    & II   & A    &  457\\\\\n",
       "\t M    & II   & A    & 4593\\\\\n",
       "\t F    & I    & A    & 9035\\\\\n",
       "\t M    & II   & B    & 3450\\\\\n",
       "\t F    & II   & B    & 3524\\\\\n",
       "\t M    & I    & B    &  958\\\\\n",
       "\t F    & II   & B    & 1053\\\\\n",
       "\t M    & II   & P    & 8674\\\\\n",
       "\t F    & I    & P    & 3424\\\\\n",
       "\t M    & II   & P    &  463\\\\\n",
       "\t F    & II   & P    & 5105\\\\\n",
       "\\end{tabular}\n"
      ],
      "text/markdown": [
       "\n",
       "| sex | stage | treatment | myc |\n",
       "|---|---|---|---|\n",
       "| M    | I    | A    | 2343 |\n",
       "| F    | II   | A    |  457 |\n",
       "| M    | II   | A    | 4593 |\n",
       "| F    | I    | A    | 9035 |\n",
       "| M    | II   | B    | 3450 |\n",
       "| F    | II   | B    | 3524 |\n",
       "| M    | I    | B    |  958 |\n",
       "| F    | II   | B    | 1053 |\n",
       "| M    | II   | P    | 8674 |\n",
       "| F    | I    | P    | 3424 |\n",
       "| M    | II   | P    |  463 |\n",
       "| F    | II   | P    | 5105 |\n",
       "\n"
      ],
      "text/plain": [
       "   sex stage treatment myc \n",
       "1  M   I     A         2343\n",
       "2  F   II    A          457\n",
       "3  M   II    A         4593\n",
       "4  F   I     A         9035\n",
       "5  M   II    B         3450\n",
       "6  F   II    B         3524\n",
       "7  M   I     B          958\n",
       "8  F   II    B         1053\n",
       "9  M   II    P         8674\n",
       "10 F   I     P         3424\n",
       "11 M   II    P          463\n",
       "12 F   II    P         5105"
      ]
     },
     "metadata": {},
     "output_type": "display_data"
    }
   ],
   "source": [
    "meta"
   ]
  },
  {
   "cell_type": "code",
   "execution_count": 4,
   "id": "608b57a1",
   "metadata": {},
   "outputs": [
    {
     "data": {
      "text/html": [
       "<table>\n",
       "<thead><tr><th></th><th scope=col>sex</th><th scope=col>stage</th><th scope=col>treatment</th><th scope=col>myc</th></tr></thead>\n",
       "<tbody>\n",
       "\t<tr><th scope=row>sample1</th><td>M   </td><td>I   </td><td>A   </td><td>2343</td></tr>\n",
       "\t<tr><th scope=row>sample2</th><td>F   </td><td>II  </td><td>A   </td><td> 457</td></tr>\n",
       "\t<tr><th scope=row>sample3</th><td>M   </td><td>II  </td><td>A   </td><td>4593</td></tr>\n",
       "\t<tr><th scope=row>sample4</th><td>F   </td><td>I   </td><td>A   </td><td>9035</td></tr>\n",
       "\t<tr><th scope=row>sample5</th><td>M   </td><td>II  </td><td>B   </td><td>3450</td></tr>\n",
       "\t<tr><th scope=row>sample6</th><td>F   </td><td>II  </td><td>B   </td><td>3524</td></tr>\n",
       "\t<tr><th scope=row>sample7</th><td>M   </td><td>I   </td><td>B   </td><td> 958</td></tr>\n",
       "\t<tr><th scope=row>sample8</th><td>F   </td><td>II  </td><td>B   </td><td>1053</td></tr>\n",
       "\t<tr><th scope=row>sample9</th><td>M   </td><td>II  </td><td>P   </td><td>8674</td></tr>\n",
       "\t<tr><th scope=row>sample10</th><td>F   </td><td>I   </td><td>P   </td><td>3424</td></tr>\n",
       "\t<tr><th scope=row>sample11</th><td>M   </td><td>II  </td><td>P   </td><td> 463</td></tr>\n",
       "\t<tr><th scope=row>sample12</th><td>F   </td><td>II  </td><td>P   </td><td>5105</td></tr>\n",
       "</tbody>\n",
       "</table>\n"
      ],
      "text/latex": [
       "\\begin{tabular}{r|llll}\n",
       "  & sex & stage & treatment & myc\\\\\n",
       "\\hline\n",
       "\tsample1 & M    & I    & A    & 2343\\\\\n",
       "\tsample2 & F    & II   & A    &  457\\\\\n",
       "\tsample3 & M    & II   & A    & 4593\\\\\n",
       "\tsample4 & F    & I    & A    & 9035\\\\\n",
       "\tsample5 & M    & II   & B    & 3450\\\\\n",
       "\tsample6 & F    & II   & B    & 3524\\\\\n",
       "\tsample7 & M    & I    & B    &  958\\\\\n",
       "\tsample8 & F    & II   & B    & 1053\\\\\n",
       "\tsample9 & M    & II   & P    & 8674\\\\\n",
       "\tsample10 & F    & I    & P    & 3424\\\\\n",
       "\tsample11 & M    & II   & P    &  463\\\\\n",
       "\tsample12 & F    & II   & P    & 5105\\\\\n",
       "\\end{tabular}\n"
      ],
      "text/markdown": [
       "\n",
       "| <!--/--> | sex | stage | treatment | myc |\n",
       "|---|---|---|---|---|\n",
       "| sample1 | M    | I    | A    | 2343 |\n",
       "| sample2 | F    | II   | A    |  457 |\n",
       "| sample3 | M    | II   | A    | 4593 |\n",
       "| sample4 | F    | I    | A    | 9035 |\n",
       "| sample5 | M    | II   | B    | 3450 |\n",
       "| sample6 | F    | II   | B    | 3524 |\n",
       "| sample7 | M    | I    | B    |  958 |\n",
       "| sample8 | F    | II   | B    | 1053 |\n",
       "| sample9 | M    | II   | P    | 8674 |\n",
       "| sample10 | F    | I    | P    | 3424 |\n",
       "| sample11 | M    | II   | P    |  463 |\n",
       "| sample12 | F    | II   | P    | 5105 |\n",
       "\n"
      ],
      "text/plain": [
       "         sex stage treatment myc \n",
       "sample1  M   I     A         2343\n",
       "sample2  F   II    A          457\n",
       "sample3  M   II    A         4593\n",
       "sample4  F   I     A         9035\n",
       "sample5  M   II    B         3450\n",
       "sample6  F   II    B         3524\n",
       "sample7  M   I     B          958\n",
       "sample8  F   II    B         1053\n",
       "sample9  M   II    P         8674\n",
       "sample10 F   I     P         3424\n",
       "sample11 M   II    P          463\n",
       "sample12 F   II    P         5105"
      ]
     },
     "metadata": {},
     "output_type": "display_data"
    }
   ],
   "source": [
    "rownames(meta) <- c(\"sample1\", \"sample2\", \"sample3\", \"sample4\", \"sample5\", \"sample6\",\n",
    "                   \"sample7\", \"sample8\", \"sample9\", \"sample10\", \"sample11\", \"sample12\")\n",
    "\n",
    "meta"
   ]
  },
  {
   "cell_type": "markdown",
   "id": "8e9a1689",
   "metadata": {},
   "source": [
    "### Exercise 2.\n",
    "#### Subsetting vectors/factors and dataframes\n",
    "Using the meta data frame from question #1, write out the R code you would use to perform the following operations (questions DO NOT build upon each other):"
   ]
  },
  {
   "cell_type": "markdown",
   "id": "eb4b1ee6",
   "metadata": {},
   "source": [
    "- return only the treatment and sex columns using []:"
   ]
  },
  {
   "cell_type": "code",
   "execution_count": 5,
   "id": "b5c06e87",
   "metadata": {},
   "outputs": [
    {
     "data": {
      "text/html": [
       "<table>\n",
       "<thead><tr><th></th><th scope=col>sex</th><th scope=col>treatment</th></tr></thead>\n",
       "<tbody>\n",
       "\t<tr><th scope=row>sample1</th><td>M</td><td>A</td></tr>\n",
       "\t<tr><th scope=row>sample2</th><td>F</td><td>A</td></tr>\n",
       "\t<tr><th scope=row>sample3</th><td>M</td><td>A</td></tr>\n",
       "\t<tr><th scope=row>sample4</th><td>F</td><td>A</td></tr>\n",
       "\t<tr><th scope=row>sample5</th><td>M</td><td>B</td></tr>\n",
       "\t<tr><th scope=row>sample6</th><td>F</td><td>B</td></tr>\n",
       "\t<tr><th scope=row>sample7</th><td>M</td><td>B</td></tr>\n",
       "\t<tr><th scope=row>sample8</th><td>F</td><td>B</td></tr>\n",
       "\t<tr><th scope=row>sample9</th><td>M</td><td>P</td></tr>\n",
       "\t<tr><th scope=row>sample10</th><td>F</td><td>P</td></tr>\n",
       "\t<tr><th scope=row>sample11</th><td>M</td><td>P</td></tr>\n",
       "\t<tr><th scope=row>sample12</th><td>F</td><td>P</td></tr>\n",
       "</tbody>\n",
       "</table>\n"
      ],
      "text/latex": [
       "\\begin{tabular}{r|ll}\n",
       "  & sex & treatment\\\\\n",
       "\\hline\n",
       "\tsample1 & M & A\\\\\n",
       "\tsample2 & F & A\\\\\n",
       "\tsample3 & M & A\\\\\n",
       "\tsample4 & F & A\\\\\n",
       "\tsample5 & M & B\\\\\n",
       "\tsample6 & F & B\\\\\n",
       "\tsample7 & M & B\\\\\n",
       "\tsample8 & F & B\\\\\n",
       "\tsample9 & M & P\\\\\n",
       "\tsample10 & F & P\\\\\n",
       "\tsample11 & M & P\\\\\n",
       "\tsample12 & F & P\\\\\n",
       "\\end{tabular}\n"
      ],
      "text/markdown": [
       "\n",
       "| <!--/--> | sex | treatment |\n",
       "|---|---|---|\n",
       "| sample1 | M | A |\n",
       "| sample2 | F | A |\n",
       "| sample3 | M | A |\n",
       "| sample4 | F | A |\n",
       "| sample5 | M | B |\n",
       "| sample6 | F | B |\n",
       "| sample7 | M | B |\n",
       "| sample8 | F | B |\n",
       "| sample9 | M | P |\n",
       "| sample10 | F | P |\n",
       "| sample11 | M | P |\n",
       "| sample12 | F | P |\n",
       "\n"
      ],
      "text/plain": [
       "         sex treatment\n",
       "sample1  M   A        \n",
       "sample2  F   A        \n",
       "sample3  M   A        \n",
       "sample4  F   A        \n",
       "sample5  M   B        \n",
       "sample6  F   B        \n",
       "sample7  M   B        \n",
       "sample8  F   B        \n",
       "sample9  M   P        \n",
       "sample10 F   P        \n",
       "sample11 M   P        \n",
       "sample12 F   P        "
      ]
     },
     "metadata": {},
     "output_type": "display_data"
    }
   ],
   "source": [
    "result <- meta[,c(1,3)]\n",
    "result"
   ]
  },
  {
   "cell_type": "markdown",
   "id": "e1c35fb8",
   "metadata": {},
   "source": [
    "- return the treatment values for samples 5, 7, 9, and 10 using []:"
   ]
  },
  {
   "cell_type": "code",
   "execution_count": 6,
   "id": "cff92ce7",
   "metadata": {},
   "outputs": [
    {
     "data": {
      "text/html": [
       "<table>\n",
       "<thead><tr><th></th><th scope=col>sex</th><th scope=col>stage</th><th scope=col>treatment</th><th scope=col>myc</th></tr></thead>\n",
       "<tbody>\n",
       "\t<tr><th scope=row>sample5</th><td>M   </td><td>II  </td><td>B   </td><td>3450</td></tr>\n",
       "\t<tr><th scope=row>sample7</th><td>M   </td><td>I   </td><td>B   </td><td> 958</td></tr>\n",
       "\t<tr><th scope=row>sample9</th><td>M   </td><td>II  </td><td>P   </td><td>8674</td></tr>\n",
       "\t<tr><th scope=row>sample10</th><td>F   </td><td>I   </td><td>P   </td><td>3424</td></tr>\n",
       "</tbody>\n",
       "</table>\n"
      ],
      "text/latex": [
       "\\begin{tabular}{r|llll}\n",
       "  & sex & stage & treatment & myc\\\\\n",
       "\\hline\n",
       "\tsample5 & M    & II   & B    & 3450\\\\\n",
       "\tsample7 & M    & I    & B    &  958\\\\\n",
       "\tsample9 & M    & II   & P    & 8674\\\\\n",
       "\tsample10 & F    & I    & P    & 3424\\\\\n",
       "\\end{tabular}\n"
      ],
      "text/markdown": [
       "\n",
       "| <!--/--> | sex | stage | treatment | myc |\n",
       "|---|---|---|---|---|\n",
       "| sample5 | M    | II   | B    | 3450 |\n",
       "| sample7 | M    | I    | B    |  958 |\n",
       "| sample9 | M    | II   | P    | 8674 |\n",
       "| sample10 | F    | I    | P    | 3424 |\n",
       "\n"
      ],
      "text/plain": [
       "         sex stage treatment myc \n",
       "sample5  M   II    B         3450\n",
       "sample7  M   I     B          958\n",
       "sample9  M   II    P         8674\n",
       "sample10 F   I     P         3424"
      ]
     },
     "metadata": {},
     "output_type": "display_data"
    }
   ],
   "source": [
    "result2 <- meta[c(5, 7, 9, 10),]\n",
    "result2"
   ]
  },
  {
   "cell_type": "markdown",
   "id": "e6b9e57a",
   "metadata": {},
   "source": [
    "- use subset() to return all data for those samples receiving treatment P:"
   ]
  },
  {
   "cell_type": "code",
   "execution_count": 7,
   "id": "f1e3093c",
   "metadata": {},
   "outputs": [
    {
     "data": {
      "text/html": [
       "<table>\n",
       "<thead><tr><th></th><th scope=col>treatment</th></tr></thead>\n",
       "<tbody>\n",
       "\t<tr><th scope=row>sample9</th><td>P</td></tr>\n",
       "\t<tr><th scope=row>sample10</th><td>P</td></tr>\n",
       "\t<tr><th scope=row>sample11</th><td>P</td></tr>\n",
       "\t<tr><th scope=row>sample12</th><td>P</td></tr>\n",
       "</tbody>\n",
       "</table>\n"
      ],
      "text/latex": [
       "\\begin{tabular}{r|l}\n",
       "  & treatment\\\\\n",
       "\\hline\n",
       "\tsample9 & P\\\\\n",
       "\tsample10 & P\\\\\n",
       "\tsample11 & P\\\\\n",
       "\tsample12 & P\\\\\n",
       "\\end{tabular}\n"
      ],
      "text/markdown": [
       "\n",
       "| <!--/--> | treatment |\n",
       "|---|---|\n",
       "| sample9 | P |\n",
       "| sample10 | P |\n",
       "| sample11 | P |\n",
       "| sample12 | P |\n",
       "\n"
      ],
      "text/plain": [
       "         treatment\n",
       "sample9  P        \n",
       "sample10 P        \n",
       "sample11 P        \n",
       "sample12 P        "
      ]
     },
     "metadata": {},
     "output_type": "display_data"
    }
   ],
   "source": [
    "treatP <- subset(meta, treatment == \"P\", c(treatment))\n",
    "treatP"
   ]
  },
  {
   "cell_type": "markdown",
   "id": "8d179377",
   "metadata": {},
   "source": [
    "- use filter()/select()to return only the stage and treatment columns for those samples with myc > 5000:"
   ]
  },
  {
   "cell_type": "code",
   "execution_count": 8,
   "id": "52c0449c",
   "metadata": {},
   "outputs": [
    {
     "data": {
      "text/html": [
       "<table>\n",
       "<thead><tr><th scope=col>stage</th><th scope=col>treatment</th></tr></thead>\n",
       "<tbody>\n",
       "\t<tr><td>I </td><td>A </td></tr>\n",
       "\t<tr><td>II</td><td>P </td></tr>\n",
       "\t<tr><td>II</td><td>P </td></tr>\n",
       "</tbody>\n",
       "</table>\n"
      ],
      "text/latex": [
       "\\begin{tabular}{r|ll}\n",
       " stage & treatment\\\\\n",
       "\\hline\n",
       "\t I  & A \\\\\n",
       "\t II & P \\\\\n",
       "\t II & P \\\\\n",
       "\\end{tabular}\n"
      ],
      "text/markdown": [
       "\n",
       "| stage | treatment |\n",
       "|---|---|\n",
       "| I  | A  |\n",
       "| II | P  |\n",
       "| II | P  |\n",
       "\n"
      ],
      "text/plain": [
       "  stage treatment\n",
       "1 I     A        \n",
       "2 II    P        \n",
       "3 II    P        "
      ]
     },
     "metadata": {},
     "output_type": "display_data"
    }
   ],
   "source": [
    "filter(meta, myc > 5000) %>% select(stage, treatment)"
   ]
  },
  {
   "cell_type": "markdown",
   "id": "efd2b9ab",
   "metadata": {},
   "source": [
    "- remove the treatment column from the dataset using []:"
   ]
  },
  {
   "cell_type": "code",
   "execution_count": 9,
   "id": "2a3291dd",
   "metadata": {},
   "outputs": [
    {
     "data": {
      "text/html": [
       "<table>\n",
       "<thead><tr><th></th><th scope=col>sex</th><th scope=col>stage</th><th scope=col>myc</th></tr></thead>\n",
       "<tbody>\n",
       "\t<tr><th scope=row>sample1</th><td>M   </td><td>I   </td><td>2343</td></tr>\n",
       "\t<tr><th scope=row>sample2</th><td>F   </td><td>II  </td><td> 457</td></tr>\n",
       "\t<tr><th scope=row>sample3</th><td>M   </td><td>II  </td><td>4593</td></tr>\n",
       "\t<tr><th scope=row>sample4</th><td>F   </td><td>I   </td><td>9035</td></tr>\n",
       "\t<tr><th scope=row>sample5</th><td>M   </td><td>II  </td><td>3450</td></tr>\n",
       "\t<tr><th scope=row>sample6</th><td>F   </td><td>II  </td><td>3524</td></tr>\n",
       "\t<tr><th scope=row>sample7</th><td>M   </td><td>I   </td><td> 958</td></tr>\n",
       "\t<tr><th scope=row>sample8</th><td>F   </td><td>II  </td><td>1053</td></tr>\n",
       "\t<tr><th scope=row>sample9</th><td>M   </td><td>II  </td><td>8674</td></tr>\n",
       "\t<tr><th scope=row>sample10</th><td>F   </td><td>I   </td><td>3424</td></tr>\n",
       "\t<tr><th scope=row>sample11</th><td>M   </td><td>II  </td><td> 463</td></tr>\n",
       "\t<tr><th scope=row>sample12</th><td>F   </td><td>II  </td><td>5105</td></tr>\n",
       "</tbody>\n",
       "</table>\n"
      ],
      "text/latex": [
       "\\begin{tabular}{r|lll}\n",
       "  & sex & stage & myc\\\\\n",
       "\\hline\n",
       "\tsample1 & M    & I    & 2343\\\\\n",
       "\tsample2 & F    & II   &  457\\\\\n",
       "\tsample3 & M    & II   & 4593\\\\\n",
       "\tsample4 & F    & I    & 9035\\\\\n",
       "\tsample5 & M    & II   & 3450\\\\\n",
       "\tsample6 & F    & II   & 3524\\\\\n",
       "\tsample7 & M    & I    &  958\\\\\n",
       "\tsample8 & F    & II   & 1053\\\\\n",
       "\tsample9 & M    & II   & 8674\\\\\n",
       "\tsample10 & F    & I    & 3424\\\\\n",
       "\tsample11 & M    & II   &  463\\\\\n",
       "\tsample12 & F    & II   & 5105\\\\\n",
       "\\end{tabular}\n"
      ],
      "text/markdown": [
       "\n",
       "| <!--/--> | sex | stage | myc |\n",
       "|---|---|---|---|\n",
       "| sample1 | M    | I    | 2343 |\n",
       "| sample2 | F    | II   |  457 |\n",
       "| sample3 | M    | II   | 4593 |\n",
       "| sample4 | F    | I    | 9035 |\n",
       "| sample5 | M    | II   | 3450 |\n",
       "| sample6 | F    | II   | 3524 |\n",
       "| sample7 | M    | I    |  958 |\n",
       "| sample8 | F    | II   | 1053 |\n",
       "| sample9 | M    | II   | 8674 |\n",
       "| sample10 | F    | I    | 3424 |\n",
       "| sample11 | M    | II   |  463 |\n",
       "| sample12 | F    | II   | 5105 |\n",
       "\n"
      ],
      "text/plain": [
       "         sex stage myc \n",
       "sample1  M   I     2343\n",
       "sample2  F   II     457\n",
       "sample3  M   II    4593\n",
       "sample4  F   I     9035\n",
       "sample5  M   II    3450\n",
       "sample6  F   II    3524\n",
       "sample7  M   I      958\n",
       "sample8  F   II    1053\n",
       "sample9  M   II    8674\n",
       "sample10 F   I     3424\n",
       "sample11 M   II     463\n",
       "sample12 F   II    5105"
      ]
     },
     "metadata": {},
     "output_type": "display_data"
    }
   ],
   "source": [
    "result3 <- meta[,c(-3)]\n",
    "result3"
   ]
  },
  {
   "cell_type": "markdown",
   "id": "ac4986b3",
   "metadata": {},
   "source": [
    "- remove samples 7, 8 and 9 from the dataset using []:"
   ]
  },
  {
   "cell_type": "code",
   "execution_count": 10,
   "id": "81d6ead2",
   "metadata": {},
   "outputs": [
    {
     "data": {
      "text/html": [
       "<table>\n",
       "<thead><tr><th></th><th scope=col>sex</th><th scope=col>stage</th><th scope=col>treatment</th><th scope=col>myc</th></tr></thead>\n",
       "<tbody>\n",
       "\t<tr><th scope=row>sample7</th><td>M   </td><td>I   </td><td>B   </td><td> 958</td></tr>\n",
       "\t<tr><th scope=row>sample8</th><td>F   </td><td>II  </td><td>B   </td><td>1053</td></tr>\n",
       "\t<tr><th scope=row>sample9</th><td>M   </td><td>II  </td><td>P   </td><td>8674</td></tr>\n",
       "</tbody>\n",
       "</table>\n"
      ],
      "text/latex": [
       "\\begin{tabular}{r|llll}\n",
       "  & sex & stage & treatment & myc\\\\\n",
       "\\hline\n",
       "\tsample7 & M    & I    & B    &  958\\\\\n",
       "\tsample8 & F    & II   & B    & 1053\\\\\n",
       "\tsample9 & M    & II   & P    & 8674\\\\\n",
       "\\end{tabular}\n"
      ],
      "text/markdown": [
       "\n",
       "| <!--/--> | sex | stage | treatment | myc |\n",
       "|---|---|---|---|---|\n",
       "| sample7 | M    | I    | B    |  958 |\n",
       "| sample8 | F    | II   | B    | 1053 |\n",
       "| sample9 | M    | II   | P    | 8674 |\n",
       "\n"
      ],
      "text/plain": [
       "        sex stage treatment myc \n",
       "sample7 M   I     B          958\n",
       "sample8 F   II    B         1053\n",
       "sample9 M   II    P         8674"
      ]
     },
     "metadata": {},
     "output_type": "display_data"
    }
   ],
   "source": [
    "result4 <- meta[c(7:9),]\n",
    "result4"
   ]
  },
  {
   "cell_type": "markdown",
   "id": "bf96a36b",
   "metadata": {},
   "source": [
    "- keep only samples 1-6 using []:"
   ]
  },
  {
   "cell_type": "code",
   "execution_count": 11,
   "id": "45ee7e03",
   "metadata": {},
   "outputs": [
    {
     "data": {
      "text/html": [
       "<table>\n",
       "<thead><tr><th></th><th scope=col>sex</th><th scope=col>stage</th><th scope=col>treatment</th><th scope=col>myc</th></tr></thead>\n",
       "<tbody>\n",
       "\t<tr><th scope=row>sample1</th><td>M   </td><td>I   </td><td>A   </td><td>2343</td></tr>\n",
       "\t<tr><th scope=row>sample2</th><td>F   </td><td>II  </td><td>A   </td><td> 457</td></tr>\n",
       "\t<tr><th scope=row>sample3</th><td>M   </td><td>II  </td><td>A   </td><td>4593</td></tr>\n",
       "\t<tr><th scope=row>sample4</th><td>F   </td><td>I   </td><td>A   </td><td>9035</td></tr>\n",
       "\t<tr><th scope=row>sample5</th><td>M   </td><td>II  </td><td>B   </td><td>3450</td></tr>\n",
       "\t<tr><th scope=row>sample6</th><td>F   </td><td>II  </td><td>B   </td><td>3524</td></tr>\n",
       "</tbody>\n",
       "</table>\n"
      ],
      "text/latex": [
       "\\begin{tabular}{r|llll}\n",
       "  & sex & stage & treatment & myc\\\\\n",
       "\\hline\n",
       "\tsample1 & M    & I    & A    & 2343\\\\\n",
       "\tsample2 & F    & II   & A    &  457\\\\\n",
       "\tsample3 & M    & II   & A    & 4593\\\\\n",
       "\tsample4 & F    & I    & A    & 9035\\\\\n",
       "\tsample5 & M    & II   & B    & 3450\\\\\n",
       "\tsample6 & F    & II   & B    & 3524\\\\\n",
       "\\end{tabular}\n"
      ],
      "text/markdown": [
       "\n",
       "| <!--/--> | sex | stage | treatment | myc |\n",
       "|---|---|---|---|---|\n",
       "| sample1 | M    | I    | A    | 2343 |\n",
       "| sample2 | F    | II   | A    |  457 |\n",
       "| sample3 | M    | II   | A    | 4593 |\n",
       "| sample4 | F    | I    | A    | 9035 |\n",
       "| sample5 | M    | II   | B    | 3450 |\n",
       "| sample6 | F    | II   | B    | 3524 |\n",
       "\n"
      ],
      "text/plain": [
       "        sex stage treatment myc \n",
       "sample1 M   I     A         2343\n",
       "sample2 F   II    A          457\n",
       "sample3 M   II    A         4593\n",
       "sample4 F   I     A         9035\n",
       "sample5 M   II    B         3450\n",
       "sample6 F   II    B         3524"
      ]
     },
     "metadata": {},
     "output_type": "display_data"
    }
   ],
   "source": [
    "result5 <- meta[c(1:6),]\n",
    "result5"
   ]
  },
  {
   "cell_type": "markdown",
   "id": "8d6318cb",
   "metadata": {},
   "source": [
    "- add a column called pre_treatment to the beginning of the dataframe with the values T, F, F, F, T, T, F, T, F, F, T, T (Hint: use cbind()):"
   ]
  },
  {
   "cell_type": "code",
   "execution_count": 12,
   "id": "ab81cda4",
   "metadata": {},
   "outputs": [
    {
     "data": {
      "text/html": [
       "<table>\n",
       "<thead><tr><th></th><th scope=col>sex</th><th scope=col>stage</th><th scope=col>treatment</th><th scope=col>myc</th><th scope=col>pre_treatment</th></tr></thead>\n",
       "<tbody>\n",
       "\t<tr><th scope=row>sample1</th><td>M    </td><td>I    </td><td>A    </td><td>2343 </td><td> TRUE</td></tr>\n",
       "\t<tr><th scope=row>sample2</th><td>F    </td><td>II   </td><td>A    </td><td> 457 </td><td>FALSE</td></tr>\n",
       "\t<tr><th scope=row>sample3</th><td>M    </td><td>II   </td><td>A    </td><td>4593 </td><td>FALSE</td></tr>\n",
       "\t<tr><th scope=row>sample4</th><td>F    </td><td>I    </td><td>A    </td><td>9035 </td><td>FALSE</td></tr>\n",
       "\t<tr><th scope=row>sample5</th><td>M    </td><td>II   </td><td>B    </td><td>3450 </td><td> TRUE</td></tr>\n",
       "\t<tr><th scope=row>sample6</th><td>F    </td><td>II   </td><td>B    </td><td>3524 </td><td> TRUE</td></tr>\n",
       "\t<tr><th scope=row>sample7</th><td>M    </td><td>I    </td><td>B    </td><td> 958 </td><td>FALSE</td></tr>\n",
       "\t<tr><th scope=row>sample8</th><td>F    </td><td>II   </td><td>B    </td><td>1053 </td><td> TRUE</td></tr>\n",
       "\t<tr><th scope=row>sample9</th><td>M    </td><td>II   </td><td>P    </td><td>8674 </td><td>FALSE</td></tr>\n",
       "\t<tr><th scope=row>sample10</th><td>F    </td><td>I    </td><td>P    </td><td>3424 </td><td>FALSE</td></tr>\n",
       "\t<tr><th scope=row>sample11</th><td>M    </td><td>II   </td><td>P    </td><td> 463 </td><td> TRUE</td></tr>\n",
       "\t<tr><th scope=row>sample12</th><td>F    </td><td>II   </td><td>P    </td><td>5105 </td><td> TRUE</td></tr>\n",
       "</tbody>\n",
       "</table>\n"
      ],
      "text/latex": [
       "\\begin{tabular}{r|lllll}\n",
       "  & sex & stage & treatment & myc & pre\\_treatment\\\\\n",
       "\\hline\n",
       "\tsample1 & M     & I     & A     & 2343  &  TRUE\\\\\n",
       "\tsample2 & F     & II    & A     &  457  & FALSE\\\\\n",
       "\tsample3 & M     & II    & A     & 4593  & FALSE\\\\\n",
       "\tsample4 & F     & I     & A     & 9035  & FALSE\\\\\n",
       "\tsample5 & M     & II    & B     & 3450  &  TRUE\\\\\n",
       "\tsample6 & F     & II    & B     & 3524  &  TRUE\\\\\n",
       "\tsample7 & M     & I     & B     &  958  & FALSE\\\\\n",
       "\tsample8 & F     & II    & B     & 1053  &  TRUE\\\\\n",
       "\tsample9 & M     & II    & P     & 8674  & FALSE\\\\\n",
       "\tsample10 & F     & I     & P     & 3424  & FALSE\\\\\n",
       "\tsample11 & M     & II    & P     &  463  &  TRUE\\\\\n",
       "\tsample12 & F     & II    & P     & 5105  &  TRUE\\\\\n",
       "\\end{tabular}\n"
      ],
      "text/markdown": [
       "\n",
       "| <!--/--> | sex | stage | treatment | myc | pre_treatment |\n",
       "|---|---|---|---|---|---|\n",
       "| sample1 | M     | I     | A     | 2343  |  TRUE |\n",
       "| sample2 | F     | II    | A     |  457  | FALSE |\n",
       "| sample3 | M     | II    | A     | 4593  | FALSE |\n",
       "| sample4 | F     | I     | A     | 9035  | FALSE |\n",
       "| sample5 | M     | II    | B     | 3450  |  TRUE |\n",
       "| sample6 | F     | II    | B     | 3524  |  TRUE |\n",
       "| sample7 | M     | I     | B     |  958  | FALSE |\n",
       "| sample8 | F     | II    | B     | 1053  |  TRUE |\n",
       "| sample9 | M     | II    | P     | 8674  | FALSE |\n",
       "| sample10 | F     | I     | P     | 3424  | FALSE |\n",
       "| sample11 | M     | II    | P     |  463  |  TRUE |\n",
       "| sample12 | F     | II    | P     | 5105  |  TRUE |\n",
       "\n"
      ],
      "text/plain": [
       "         sex stage treatment myc  pre_treatment\n",
       "sample1  M   I     A         2343  TRUE        \n",
       "sample2  F   II    A          457 FALSE        \n",
       "sample3  M   II    A         4593 FALSE        \n",
       "sample4  F   I     A         9035 FALSE        \n",
       "sample5  M   II    B         3450  TRUE        \n",
       "sample6  F   II    B         3524  TRUE        \n",
       "sample7  M   I     B          958 FALSE        \n",
       "sample8  F   II    B         1053  TRUE        \n",
       "sample9  M   II    P         8674 FALSE        \n",
       "sample10 F   I     P         3424 FALSE        \n",
       "sample11 M   II    P          463  TRUE        \n",
       "sample12 F   II    P         5105  TRUE        "
      ]
     },
     "metadata": {},
     "output_type": "display_data"
    }
   ],
   "source": [
    "pre_treatment <- c(T, F, F, F, T, T, F, T, F, F, T, T)\n",
    "meta_pre <- cbind(meta, pre_treatment)\n",
    "meta_pre"
   ]
  },
  {
   "cell_type": "markdown",
   "id": "263595fd",
   "metadata": {},
   "source": [
    "- change the names of the columns to: “A”, “B”, “C”, “D”:"
   ]
  },
  {
   "cell_type": "code",
   "execution_count": 13,
   "id": "7212b4a5",
   "metadata": {},
   "outputs": [
    {
     "data": {
      "text/html": [
       "<table>\n",
       "<thead><tr><th></th><th scope=col>A</th><th scope=col>B</th><th scope=col>C</th><th scope=col>D</th></tr></thead>\n",
       "<tbody>\n",
       "\t<tr><th scope=row>sample1</th><td>M   </td><td>I   </td><td>A   </td><td>2343</td></tr>\n",
       "\t<tr><th scope=row>sample2</th><td>F   </td><td>II  </td><td>A   </td><td> 457</td></tr>\n",
       "\t<tr><th scope=row>sample3</th><td>M   </td><td>II  </td><td>A   </td><td>4593</td></tr>\n",
       "\t<tr><th scope=row>sample4</th><td>F   </td><td>I   </td><td>A   </td><td>9035</td></tr>\n",
       "\t<tr><th scope=row>sample5</th><td>M   </td><td>II  </td><td>B   </td><td>3450</td></tr>\n",
       "\t<tr><th scope=row>sample6</th><td>F   </td><td>II  </td><td>B   </td><td>3524</td></tr>\n",
       "\t<tr><th scope=row>sample7</th><td>M   </td><td>I   </td><td>B   </td><td> 958</td></tr>\n",
       "\t<tr><th scope=row>sample8</th><td>F   </td><td>II  </td><td>B   </td><td>1053</td></tr>\n",
       "\t<tr><th scope=row>sample9</th><td>M   </td><td>II  </td><td>P   </td><td>8674</td></tr>\n",
       "\t<tr><th scope=row>sample10</th><td>F   </td><td>I   </td><td>P   </td><td>3424</td></tr>\n",
       "\t<tr><th scope=row>sample11</th><td>M   </td><td>II  </td><td>P   </td><td> 463</td></tr>\n",
       "\t<tr><th scope=row>sample12</th><td>F   </td><td>II  </td><td>P   </td><td>5105</td></tr>\n",
       "</tbody>\n",
       "</table>\n"
      ],
      "text/latex": [
       "\\begin{tabular}{r|llll}\n",
       "  & A & B & C & D\\\\\n",
       "\\hline\n",
       "\tsample1 & M    & I    & A    & 2343\\\\\n",
       "\tsample2 & F    & II   & A    &  457\\\\\n",
       "\tsample3 & M    & II   & A    & 4593\\\\\n",
       "\tsample4 & F    & I    & A    & 9035\\\\\n",
       "\tsample5 & M    & II   & B    & 3450\\\\\n",
       "\tsample6 & F    & II   & B    & 3524\\\\\n",
       "\tsample7 & M    & I    & B    &  958\\\\\n",
       "\tsample8 & F    & II   & B    & 1053\\\\\n",
       "\tsample9 & M    & II   & P    & 8674\\\\\n",
       "\tsample10 & F    & I    & P    & 3424\\\\\n",
       "\tsample11 & M    & II   & P    &  463\\\\\n",
       "\tsample12 & F    & II   & P    & 5105\\\\\n",
       "\\end{tabular}\n"
      ],
      "text/markdown": [
       "\n",
       "| <!--/--> | A | B | C | D |\n",
       "|---|---|---|---|---|\n",
       "| sample1 | M    | I    | A    | 2343 |\n",
       "| sample2 | F    | II   | A    |  457 |\n",
       "| sample3 | M    | II   | A    | 4593 |\n",
       "| sample4 | F    | I    | A    | 9035 |\n",
       "| sample5 | M    | II   | B    | 3450 |\n",
       "| sample6 | F    | II   | B    | 3524 |\n",
       "| sample7 | M    | I    | B    |  958 |\n",
       "| sample8 | F    | II   | B    | 1053 |\n",
       "| sample9 | M    | II   | P    | 8674 |\n",
       "| sample10 | F    | I    | P    | 3424 |\n",
       "| sample11 | M    | II   | P    |  463 |\n",
       "| sample12 | F    | II   | P    | 5105 |\n",
       "\n"
      ],
      "text/plain": [
       "         A B  C D   \n",
       "sample1  M I  A 2343\n",
       "sample2  F II A  457\n",
       "sample3  M II A 4593\n",
       "sample4  F I  A 9035\n",
       "sample5  M II B 3450\n",
       "sample6  F II B 3524\n",
       "sample7  M I  B  958\n",
       "sample8  F II B 1053\n",
       "sample9  M II P 8674\n",
       "sample10 F I  P 3424\n",
       "sample11 M II P  463\n",
       "sample12 F II P 5105"
      ]
     },
     "metadata": {},
     "output_type": "display_data"
    }
   ],
   "source": [
    "colnames(meta) <- c(\"A\", \"B\", \"C\", \"D\")\n",
    "meta"
   ]
  }
 ],
 "metadata": {
  "kernelspec": {
   "display_name": "R",
   "language": "R",
   "name": "ir"
  },
  "language_info": {
   "codemirror_mode": "r",
   "file_extension": ".r",
   "mimetype": "text/x-r-source",
   "name": "R",
   "pygments_lexer": "r",
   "version": "3.6.1"
  }
 },
 "nbformat": 4,
 "nbformat_minor": 5
}
